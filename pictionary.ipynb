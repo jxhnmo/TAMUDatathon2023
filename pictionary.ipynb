{
 "cells": [
  {
   "cell_type": "code",
   "execution_count": 1,
   "metadata": {},
   "outputs": [],
   "source": [
    "# import tensorflow as tf\n",
    "import numpy as np\n",
    "import pandas as pd\n",
    "import quickdraw as qd\n",
    "from PIL import Image\n",
    "import os\n",
    "import matplotlib.pyplot as plt\n",
    "import pickle"
   ]
  },
  {
   "cell_type": "code",
   "execution_count": 2,
   "metadata": {},
   "outputs": [],
   "source": [
    "# input = qd.QuickDrawData()\n",
    "with open(\"google_30_image_stroke_data\", \"rb\") as file:\n",
    "    input_data = pickle.load(file)"
   ]
  },
  {
   "cell_type": "code",
   "execution_count": 3,
   "metadata": {},
   "outputs": [],
   "source": [
    "def get_data(name, max_drawings, recognized):\n",
    "    drawings = qd.QuickDrawDataGroup(name, max_drawings=max_drawings, recognized=recognized)\n",
    "    for drawing in drawings.drawings:\n",
    "        input_data.append([name, drawing.image_data])"
   ]
  },
  {
   "cell_type": "code",
   "execution_count": 4,
   "metadata": {},
   "outputs": [],
   "source": [
    "def get_images(data, count, label, number):\n",
    "    x = []\n",
    "    y = []\n",
    "    for strokes in data:\n",
    "        xs = strokes[0]\n",
    "        ys = strokes[1]\n",
    "        x.append(xs)\n",
    "        y.append(ys)\n",
    "    for i in range(len(x)):\n",
    "        plt.plot(x[i], y[i], color = \"black\")\n",
    "    plt.gca().invert_yaxis()\n",
    "    plt.grid(False)\n",
    "    plt.axis(\"off\")\n",
    "    if not os.path.isdir(f\"google_{number}_image_images/{label}\"):\n",
    "        os.makedirs(f\"google_{number}_image_images/{label}\")\n",
    "    plt.savefig(f\"google_{number}_image_images/{label}/{count}.png\")\n",
    "    plt.clf()"
   ]
  },
  {
   "cell_type": "code",
   "execution_count": null,
   "metadata": {},
   "outputs": [],
   "source": [
    "# count = 30\n",
    "# i = 1\n",
    "# for label in qd.QuickDrawData().drawing_names:\n",
    "#     print(f\"{i} / 345\")\n",
    "#     get_data(label, max_drawings=count, recognized=True)\n",
    "#     i += 1\n",
    "\n",
    "# with open (f\"google_{count}_image_stroke_data\", \"wb\") as file:\n",
    "#     pickle.dump(input_data, file)"
   ]
  },
  {
   "cell_type": "code",
   "execution_count": 5,
   "metadata": {},
   "outputs": [
    {
     "data": {
      "text/plain": [
       "<Figure size 640x480 with 0 Axes>"
      ]
     },
     "metadata": {},
     "output_type": "display_data"
    }
   ],
   "source": [
    "i = 1\n",
    "num = len(input_data)\n",
    "for drawing in input_data:\n",
    "    label = drawing[0]\n",
    "    data = drawing[1:][0]\n",
    "    get_images(data, i, label, number = 30)\n",
    "    i += 1"
   ]
  }
 ],
 "metadata": {
  "kernelspec": {
   "display_name": "TAMU_Datathon",
   "language": "python",
   "name": "python3"
  },
  "language_info": {
   "codemirror_mode": {
    "name": "ipython",
    "version": 3
   },
   "file_extension": ".py",
   "mimetype": "text/x-python",
   "name": "python",
   "nbconvert_exporter": "python",
   "pygments_lexer": "ipython3",
   "version": "3.12.0"
  }
 },
 "nbformat": 4,
 "nbformat_minor": 2
}
